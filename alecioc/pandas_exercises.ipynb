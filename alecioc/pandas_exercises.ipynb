{
 "cells": [
  {
   "cell_type": "code",
   "execution_count": 4,
   "metadata": {
    "collapsed": true
   },
   "outputs": [],
   "source": [
    "import pandas as pd"
   ]
  },
  {
   "cell_type": "code",
   "execution_count": 5,
   "outputs": [
    {
     "data": {
      "text/plain": "                            id                                        name  \\\n129583  6OxxzC0HsX7zK3ZO3q79H6                                   traveling   \n403270  4TXLc6kN0HOIItpWigjcTk                       Airmata Saksi Cintaku   \n2762    6C0k7xIhe3DakNTtSuVfnz      Kapitel 64 - Der Page und die Herzogin   \n228616  5oBsB671s34iG8A2v8exQB                                Ma De Ginete   \n267528  5GPFKWYO8GnGJktBXj8PEm                                   Armstrong   \n...                        ...                                         ...   \n521225  7G1w29nV76SpkHlvfEwYRt                           Ghungru Tutale Re   \n479209  61qoqUrrfAGjzKmlp0klVb  Capítulo 18.2 - la Sombra Fuera del Tiempo   \n370620  7Fsr0IIykuv1gdQxkRz0wI                               Gelin Ne Olur   \n97830   35DMo1DoK3HDLWc0rmfHRu                Sing A Sad Song - Remastered   \n207118  0LceALXXofNomDUe2n5uYU                        La Cuerda Planetaria   \n\n        popularity  duration_ms  explicit  \\\n129583          55       313547         0   \n403270          21       347947         0   \n2762             1       127936         0   \n228616          44       243307         0   \n267528          28       162587         0   \n...            ...          ...       ...   \n521225          10       233800         0   \n479209           0       131000         0   \n370620          36       381293         0   \n97830           17       155467         0   \n207118          32       294853         0   \n\n                                    artists  \\\n129583                     ['Hikaru Utada']   \n403270                          ['Lestari']   \n2762    ['Georgette Heyer', 'Irina Salkow']   \n228616                    ['Antonis Remos']   \n267528                             ['Lobo']   \n...                                     ...   \n521225                  ['Lata Mangeshkar']   \n479209                   ['H.P. Lovecraft']   \n370620                      ['Neşet Ertaş']   \n97830                     ['Merle Haggard']   \n207118  ['Gustavo Cerati', 'Daniel Melero']   \n\n                                               id_artists release_date  \\\n129583                         ['7lbSsjYACZHn1MSDXPxNF2']   2002-06-19   \n403270                         ['3PemLBuUk6Dj2sPrlMzKXU']   1998-12-31   \n2762    ['66pXJ6MhX37ZLneiwUWZf3', '3Lcu93LjKagluamCDO...         1926   \n228616                         ['6s26Q38Zqc4hY3xe7jrEBG']   2003-10-23   \n267528                         ['1sldhz8tzC100cRAdfnMht']   1975-01-01   \n...                                                   ...          ...   \n521225                         ['61JrslREXq98hurYL2hYoc']   1979-12-31   \n479209                         ['1QUtO0CVLXg2DonM9aCJrV']         1936   \n370620                         ['1afML5pJuVr3ye8TGyYcV2']   2007-12-17   \n97830                          ['2ptmyXoL7poH6Zq62h1QT9']         1965   \n207118  ['1QOmebWGB6FdFtW7Bo3F0W', '5ohM2ZA35IpUZNIAiK...         1992   \n\n        danceability  energy  key  loudness  mode  speechiness  acousticness  \\\n129583         0.683   0.940    4    -3.207     0       0.0613      0.028200   \n403270         0.537   0.469    9    -5.732     0       0.0259      0.734000   \n2762           0.752   0.148    9   -21.826     0       0.9410      0.441000   \n228616         0.742   0.811   10    -4.697     0       0.0829      0.146000   \n267528         0.552   0.360    2   -13.193     1       0.0288      0.424000   \n...              ...     ...  ...       ...   ...          ...           ...   \n521225         0.460   0.772    1   -10.044     1       0.1630      0.689000   \n479209         0.724   0.307    1   -26.447     1       0.9480      0.455000   \n370620         0.655   0.780    1    -8.487     1       0.0337      0.404000   \n97830          0.446   0.308    0    -8.675     1       0.0264      0.247000   \n207118         0.614   0.894    1   -14.499     1       0.0434      0.000053   \n\n        instrumentalness  liveness  valence    tempo  time_signature  \n129583          0.000000    0.1440    0.767  116.969               4  \n403270          0.000000    0.2620    0.372   95.912               4  \n2762            0.000000    0.3510    0.398   99.570               3  \n228616          0.000000    0.2210    0.820   94.988               4  \n267528          0.014700    0.1860    0.554  114.352               4  \n...                  ...       ...      ...      ...             ...  \n521225          0.000067    0.2420    0.888   78.376               4  \n479209          0.000000    0.1400    0.390   89.917               4  \n370620          0.241000    0.0964    0.845   98.670               4  \n97830           0.001010    0.2010    0.372   93.750               4  \n207118          0.880000    0.3830    0.457  119.968               4  \n\n[10000 rows x 20 columns]",
      "text/html": "<div>\n<style scoped>\n    .dataframe tbody tr th:only-of-type {\n        vertical-align: middle;\n    }\n\n    .dataframe tbody tr th {\n        vertical-align: top;\n    }\n\n    .dataframe thead th {\n        text-align: right;\n    }\n</style>\n<table border=\"1\" class=\"dataframe\">\n  <thead>\n    <tr style=\"text-align: right;\">\n      <th></th>\n      <th>id</th>\n      <th>name</th>\n      <th>popularity</th>\n      <th>duration_ms</th>\n      <th>explicit</th>\n      <th>artists</th>\n      <th>id_artists</th>\n      <th>release_date</th>\n      <th>danceability</th>\n      <th>energy</th>\n      <th>key</th>\n      <th>loudness</th>\n      <th>mode</th>\n      <th>speechiness</th>\n      <th>acousticness</th>\n      <th>instrumentalness</th>\n      <th>liveness</th>\n      <th>valence</th>\n      <th>tempo</th>\n      <th>time_signature</th>\n    </tr>\n  </thead>\n  <tbody>\n    <tr>\n      <th>129583</th>\n      <td>6OxxzC0HsX7zK3ZO3q79H6</td>\n      <td>traveling</td>\n      <td>55</td>\n      <td>313547</td>\n      <td>0</td>\n      <td>['Hikaru Utada']</td>\n      <td>['7lbSsjYACZHn1MSDXPxNF2']</td>\n      <td>2002-06-19</td>\n      <td>0.683</td>\n      <td>0.940</td>\n      <td>4</td>\n      <td>-3.207</td>\n      <td>0</td>\n      <td>0.0613</td>\n      <td>0.028200</td>\n      <td>0.000000</td>\n      <td>0.1440</td>\n      <td>0.767</td>\n      <td>116.969</td>\n      <td>4</td>\n    </tr>\n    <tr>\n      <th>403270</th>\n      <td>4TXLc6kN0HOIItpWigjcTk</td>\n      <td>Airmata Saksi Cintaku</td>\n      <td>21</td>\n      <td>347947</td>\n      <td>0</td>\n      <td>['Lestari']</td>\n      <td>['3PemLBuUk6Dj2sPrlMzKXU']</td>\n      <td>1998-12-31</td>\n      <td>0.537</td>\n      <td>0.469</td>\n      <td>9</td>\n      <td>-5.732</td>\n      <td>0</td>\n      <td>0.0259</td>\n      <td>0.734000</td>\n      <td>0.000000</td>\n      <td>0.2620</td>\n      <td>0.372</td>\n      <td>95.912</td>\n      <td>4</td>\n    </tr>\n    <tr>\n      <th>2762</th>\n      <td>6C0k7xIhe3DakNTtSuVfnz</td>\n      <td>Kapitel 64 - Der Page und die Herzogin</td>\n      <td>1</td>\n      <td>127936</td>\n      <td>0</td>\n      <td>['Georgette Heyer', 'Irina Salkow']</td>\n      <td>['66pXJ6MhX37ZLneiwUWZf3', '3Lcu93LjKagluamCDO...</td>\n      <td>1926</td>\n      <td>0.752</td>\n      <td>0.148</td>\n      <td>9</td>\n      <td>-21.826</td>\n      <td>0</td>\n      <td>0.9410</td>\n      <td>0.441000</td>\n      <td>0.000000</td>\n      <td>0.3510</td>\n      <td>0.398</td>\n      <td>99.570</td>\n      <td>3</td>\n    </tr>\n    <tr>\n      <th>228616</th>\n      <td>5oBsB671s34iG8A2v8exQB</td>\n      <td>Ma De Ginete</td>\n      <td>44</td>\n      <td>243307</td>\n      <td>0</td>\n      <td>['Antonis Remos']</td>\n      <td>['6s26Q38Zqc4hY3xe7jrEBG']</td>\n      <td>2003-10-23</td>\n      <td>0.742</td>\n      <td>0.811</td>\n      <td>10</td>\n      <td>-4.697</td>\n      <td>0</td>\n      <td>0.0829</td>\n      <td>0.146000</td>\n      <td>0.000000</td>\n      <td>0.2210</td>\n      <td>0.820</td>\n      <td>94.988</td>\n      <td>4</td>\n    </tr>\n    <tr>\n      <th>267528</th>\n      <td>5GPFKWYO8GnGJktBXj8PEm</td>\n      <td>Armstrong</td>\n      <td>28</td>\n      <td>162587</td>\n      <td>0</td>\n      <td>['Lobo']</td>\n      <td>['1sldhz8tzC100cRAdfnMht']</td>\n      <td>1975-01-01</td>\n      <td>0.552</td>\n      <td>0.360</td>\n      <td>2</td>\n      <td>-13.193</td>\n      <td>1</td>\n      <td>0.0288</td>\n      <td>0.424000</td>\n      <td>0.014700</td>\n      <td>0.1860</td>\n      <td>0.554</td>\n      <td>114.352</td>\n      <td>4</td>\n    </tr>\n    <tr>\n      <th>...</th>\n      <td>...</td>\n      <td>...</td>\n      <td>...</td>\n      <td>...</td>\n      <td>...</td>\n      <td>...</td>\n      <td>...</td>\n      <td>...</td>\n      <td>...</td>\n      <td>...</td>\n      <td>...</td>\n      <td>...</td>\n      <td>...</td>\n      <td>...</td>\n      <td>...</td>\n      <td>...</td>\n      <td>...</td>\n      <td>...</td>\n      <td>...</td>\n      <td>...</td>\n    </tr>\n    <tr>\n      <th>521225</th>\n      <td>7G1w29nV76SpkHlvfEwYRt</td>\n      <td>Ghungru Tutale Re</td>\n      <td>10</td>\n      <td>233800</td>\n      <td>0</td>\n      <td>['Lata Mangeshkar']</td>\n      <td>['61JrslREXq98hurYL2hYoc']</td>\n      <td>1979-12-31</td>\n      <td>0.460</td>\n      <td>0.772</td>\n      <td>1</td>\n      <td>-10.044</td>\n      <td>1</td>\n      <td>0.1630</td>\n      <td>0.689000</td>\n      <td>0.000067</td>\n      <td>0.2420</td>\n      <td>0.888</td>\n      <td>78.376</td>\n      <td>4</td>\n    </tr>\n    <tr>\n      <th>479209</th>\n      <td>61qoqUrrfAGjzKmlp0klVb</td>\n      <td>Capítulo 18.2 - la Sombra Fuera del Tiempo</td>\n      <td>0</td>\n      <td>131000</td>\n      <td>0</td>\n      <td>['H.P. Lovecraft']</td>\n      <td>['1QUtO0CVLXg2DonM9aCJrV']</td>\n      <td>1936</td>\n      <td>0.724</td>\n      <td>0.307</td>\n      <td>1</td>\n      <td>-26.447</td>\n      <td>1</td>\n      <td>0.9480</td>\n      <td>0.455000</td>\n      <td>0.000000</td>\n      <td>0.1400</td>\n      <td>0.390</td>\n      <td>89.917</td>\n      <td>4</td>\n    </tr>\n    <tr>\n      <th>370620</th>\n      <td>7Fsr0IIykuv1gdQxkRz0wI</td>\n      <td>Gelin Ne Olur</td>\n      <td>36</td>\n      <td>381293</td>\n      <td>0</td>\n      <td>['Neşet Ertaş']</td>\n      <td>['1afML5pJuVr3ye8TGyYcV2']</td>\n      <td>2007-12-17</td>\n      <td>0.655</td>\n      <td>0.780</td>\n      <td>1</td>\n      <td>-8.487</td>\n      <td>1</td>\n      <td>0.0337</td>\n      <td>0.404000</td>\n      <td>0.241000</td>\n      <td>0.0964</td>\n      <td>0.845</td>\n      <td>98.670</td>\n      <td>4</td>\n    </tr>\n    <tr>\n      <th>97830</th>\n      <td>35DMo1DoK3HDLWc0rmfHRu</td>\n      <td>Sing A Sad Song - Remastered</td>\n      <td>17</td>\n      <td>155467</td>\n      <td>0</td>\n      <td>['Merle Haggard']</td>\n      <td>['2ptmyXoL7poH6Zq62h1QT9']</td>\n      <td>1965</td>\n      <td>0.446</td>\n      <td>0.308</td>\n      <td>0</td>\n      <td>-8.675</td>\n      <td>1</td>\n      <td>0.0264</td>\n      <td>0.247000</td>\n      <td>0.001010</td>\n      <td>0.2010</td>\n      <td>0.372</td>\n      <td>93.750</td>\n      <td>4</td>\n    </tr>\n    <tr>\n      <th>207118</th>\n      <td>0LceALXXofNomDUe2n5uYU</td>\n      <td>La Cuerda Planetaria</td>\n      <td>32</td>\n      <td>294853</td>\n      <td>0</td>\n      <td>['Gustavo Cerati', 'Daniel Melero']</td>\n      <td>['1QOmebWGB6FdFtW7Bo3F0W', '5ohM2ZA35IpUZNIAiK...</td>\n      <td>1992</td>\n      <td>0.614</td>\n      <td>0.894</td>\n      <td>1</td>\n      <td>-14.499</td>\n      <td>1</td>\n      <td>0.0434</td>\n      <td>0.000053</td>\n      <td>0.880000</td>\n      <td>0.3830</td>\n      <td>0.457</td>\n      <td>119.968</td>\n      <td>4</td>\n    </tr>\n  </tbody>\n</table>\n<p>10000 rows × 20 columns</p>\n</div>"
     },
     "execution_count": 5,
     "metadata": {},
     "output_type": "execute_result"
    }
   ],
   "source": [
    "df = pd.read_csv(\"data/10k_random_tracks.csv\", index_col=0)\n",
    "df"
   ],
   "metadata": {
    "collapsed": false,
    "pycharm": {
     "name": "#%%\n"
    }
   }
  },
  {
   "cell_type": "code",
   "execution_count": 6,
   "outputs": [
    {
     "data": {
      "text/plain": "Int64Index([129583, 403270,   2762, 228616, 267528, 586190, 410722,  65017,\n            495186, 205663,\n            ...\n            202532, 571425,  35520, 143948, 541310, 521225, 479209, 370620,\n             97830, 207118],\n           dtype='int64', length=10000)"
     },
     "execution_count": 6,
     "metadata": {},
     "output_type": "execute_result"
    }
   ],
   "source": [
    "df.index"
   ],
   "metadata": {
    "collapsed": false,
    "pycharm": {
     "name": "#%%\n"
    }
   }
  },
  {
   "cell_type": "code",
   "execution_count": 7,
   "outputs": [
    {
     "data": {
      "text/plain": "Index(['id', 'name', 'popularity', 'duration_ms', 'explicit', 'artists',\n       'id_artists', 'release_date', 'danceability', 'energy', 'key',\n       'loudness', 'mode', 'speechiness', 'acousticness', 'instrumentalness',\n       'liveness', 'valence', 'tempo', 'time_signature'],\n      dtype='object')"
     },
     "execution_count": 7,
     "metadata": {},
     "output_type": "execute_result"
    }
   ],
   "source": [
    "df.columns"
   ],
   "metadata": {
    "collapsed": false,
    "pycharm": {
     "name": "#%%\n"
    }
   }
  },
  {
   "cell_type": "code",
   "execution_count": 8,
   "outputs": [
    {
     "data": {
      "text/plain": "(10000, 20)"
     },
     "execution_count": 8,
     "metadata": {},
     "output_type": "execute_result"
    }
   ],
   "source": [
    "df.shape"
   ],
   "metadata": {
    "collapsed": false,
    "pycharm": {
     "name": "#%%\n"
    }
   }
  },
  {
   "cell_type": "code",
   "execution_count": 9,
   "outputs": [
    {
     "data": {
      "text/plain": "129583    55\n403270    21\n2762       1\n228616    44\n267528    28\n          ..\n521225    10\n479209     0\n370620    36\n97830     17\n207118    32\nName: popularity, Length: 10000, dtype: int64"
     },
     "execution_count": 9,
     "metadata": {},
     "output_type": "execute_result"
    }
   ],
   "source": [
    "# -> indexing\n",
    "df[\"popularity\"]"
   ],
   "metadata": {
    "collapsed": false,
    "pycharm": {
     "name": "#%%\n"
    }
   }
  },
  {
   "cell_type": "code",
   "execution_count": 10,
   "outputs": [
    {
     "data": {
      "text/plain": "\"['Antonis Remos']\""
     },
     "execution_count": 10,
     "metadata": {},
     "output_type": "execute_result"
    }
   ],
   "source": [
    "df.iloc[3, 5]"
   ],
   "metadata": {
    "collapsed": false,
    "pycharm": {
     "name": "#%%\n"
    }
   }
  },
  {
   "cell_type": "code",
   "execution_count": 11,
   "outputs": [
    {
     "data": {
      "text/plain": "'Airmata Saksi Cintaku'"
     },
     "execution_count": 11,
     "metadata": {},
     "output_type": "execute_result"
    }
   ],
   "source": [
    "df.loc[403270, \"name\"]"
   ],
   "metadata": {
    "collapsed": false,
    "pycharm": {
     "name": "#%%\n"
    }
   }
  },
  {
   "cell_type": "code",
   "execution_count": 12,
   "outputs": [
    {
     "data": {
      "text/plain": "27.7039"
     },
     "execution_count": 12,
     "metadata": {},
     "output_type": "execute_result"
    }
   ],
   "source": [
    "# -> common stats\n",
    "df[\"popularity\"].mean()"
   ],
   "metadata": {
    "collapsed": false,
    "pycharm": {
     "name": "#%%\n"
    }
   }
  },
  {
   "cell_type": "code",
   "execution_count": 13,
   "outputs": [
    {
     "data": {
      "text/plain": "27.0"
     },
     "execution_count": 13,
     "metadata": {},
     "output_type": "execute_result"
    }
   ],
   "source": [
    "df[\"popularity\"].median()"
   ],
   "metadata": {
    "collapsed": false,
    "pycharm": {
     "name": "#%%\n"
    }
   }
  },
  {
   "cell_type": "code",
   "execution_count": 14,
   "outputs": [
    {
     "data": {
      "text/plain": "0"
     },
     "execution_count": 14,
     "metadata": {},
     "output_type": "execute_result"
    }
   ],
   "source": [
    "df[\"popularity\"].min()"
   ],
   "metadata": {
    "collapsed": false,
    "pycharm": {
     "name": "#%%\n"
    }
   }
  },
  {
   "cell_type": "code",
   "execution_count": 15,
   "outputs": [
    {
     "data": {
      "text/plain": "89"
     },
     "execution_count": 15,
     "metadata": {},
     "output_type": "execute_result"
    }
   ],
   "source": [
    "df[\"popularity\"].max()"
   ],
   "metadata": {
    "collapsed": false,
    "pycharm": {
     "name": "#%%\n"
    }
   }
  },
  {
   "cell_type": "code",
   "execution_count": 16,
   "outputs": [
    {
     "data": {
      "text/plain": "277039"
     },
     "execution_count": 16,
     "metadata": {},
     "output_type": "execute_result"
    }
   ],
   "source": [
    "df[\"popularity\"].sum()"
   ],
   "metadata": {
    "collapsed": false,
    "pycharm": {
     "name": "#%%\n"
    }
   }
  },
  {
   "cell_type": "code",
   "execution_count": 17,
   "outputs": [
    {
     "data": {
      "text/plain": "count    10000.00000\nmean        27.70390\nstd         18.28796\nmin          0.00000\n25%         13.00000\n50%         27.00000\n75%         40.00000\nmax         89.00000\nName: popularity, dtype: float64"
     },
     "execution_count": 17,
     "metadata": {},
     "output_type": "execute_result"
    }
   ],
   "source": [
    "df[\"popularity\"].describe()\n",
    "\n"
   ],
   "metadata": {
    "collapsed": false,
    "pycharm": {
     "name": "#%%\n"
    }
   }
  },
  {
   "cell_type": "code",
   "execution_count": 18,
   "outputs": [
    {
     "data": {
      "text/plain": "129583    0.55\n403270    0.21\n2762      0.01\n228616    0.44\n267528    0.28\n          ... \n521225    0.10\n479209    0.00\n370620    0.36\n97830     0.17\n207118    0.32\nName: popularity, Length: 10000, dtype: float64"
     },
     "execution_count": 18,
     "metadata": {},
     "output_type": "execute_result"
    }
   ],
   "source": [
    "# -> copy columns and divide by 100\n",
    "my_series_1 = df[\"popularity\"].copy()\n",
    "my_series_1 = my_series_1 / 100\n",
    "my_series_1"
   ],
   "metadata": {
    "collapsed": false,
    "pycharm": {
     "name": "#%%\n"
    }
   }
  },
  {
   "cell_type": "code",
   "execution_count": 19,
   "outputs": [
    {
     "data": {
      "text/plain": "0        1\n1        5\n2    34534\n3        3\n4       54\n5      435\ndtype: int64"
     },
     "execution_count": 19,
     "metadata": {},
     "output_type": "execute_result"
    }
   ],
   "source": [
    "# -> PS another way of creating a series\n",
    "a_series_from_scratch = pd.Series([1, 5, 34534, 3, 54, 435])\n",
    "a_series_from_scratch"
   ],
   "metadata": {
    "collapsed": false,
    "pycharm": {
     "name": "#%%\n"
    }
   }
  },
  {
   "cell_type": "code",
   "execution_count": 20,
   "outputs": [
    {
     "data": {
      "text/plain": "id                  0\nname                2\npopularity          0\nduration_ms         0\nexplicit            0\nartists             0\nid_artists          0\nrelease_date        0\ndanceability        0\nenergy              0\nkey                 0\nloudness            0\nmode                0\nspeechiness         0\nacousticness        0\ninstrumentalness    0\nliveness            0\nvalence             0\ntempo               0\ntime_signature      0\ndtype: int64"
     },
     "execution_count": 20,
     "metadata": {},
     "output_type": "execute_result"
    }
   ],
   "source": [
    "df.isnull().sum()"
   ],
   "metadata": {
    "collapsed": false,
    "pycharm": {
     "name": "#%%\n"
    }
   }
  },
  {
   "cell_type": "code",
   "execution_count": 21,
   "outputs": [
    {
     "data": {
      "text/plain": "['Die drei ???']                              70\n['TKKG Retro-Archiv']                         33\n['Benjamin Blümchen']                         25\n['Lata Mangeshkar']                           25\n['Tintin', 'Tomas Bolme', 'Bert-Åke Varg']    21\n                                              ..\n['The Citizens of Halloween']                  1\n['Sam Spence']                                 1\n['P. A. Periyanayaki', 'Jikki']                1\n['Rels B']                                     1\n['Hvid Sjokolade']                             1\nName: artists, Length: 7404, dtype: int64"
     },
     "execution_count": 21,
     "metadata": {},
     "output_type": "execute_result"
    }
   ],
   "source": [
    "\n",
    "df.artists.value_counts()"
   ],
   "metadata": {
    "collapsed": false,
    "pycharm": {
     "name": "#%%\n"
    }
   }
  },
  {
   "cell_type": "code",
   "execution_count": 22,
   "outputs": [
    {
     "data": {
      "text/plain": "artists\n[\"'T Hof Van Commerce\"]              1\n['Nelsinho Corrêa', 'Ana Lúcia']     1\n['Nelly', 'City Spud']               1\n['Nello Amato']                      1\n['Nektar']                           1\n                                    ..\n['Ella Fitzgerald']                 21\n['Benjamin Blümchen']               25\n['Lata Mangeshkar']                 25\n['TKKG Retro-Archiv']               33\n['Die drei ???']                    70\nLength: 7404, dtype: int64"
     },
     "execution_count": 22,
     "metadata": {},
     "output_type": "execute_result"
    }
   ],
   "source": [
    "df.groupby(\"artists\").size().sort_values()"
   ],
   "metadata": {
    "collapsed": false,
    "pycharm": {
     "name": "#%%\n"
    }
   }
  }
 ],
 "metadata": {
  "kernelspec": {
   "display_name": "Python 3",
   "language": "python",
   "name": "python3"
  },
  "language_info": {
   "codemirror_mode": {
    "name": "ipython",
    "version": 2
   },
   "file_extension": ".py",
   "mimetype": "text/x-python",
   "name": "python",
   "nbconvert_exporter": "python",
   "pygments_lexer": "ipython2",
   "version": "2.7.6"
  }
 },
 "nbformat": 4,
 "nbformat_minor": 0
}